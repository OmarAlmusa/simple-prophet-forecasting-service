{
 "cells": [
  {
   "cell_type": "code",
   "execution_count": null,
   "id": "c8ccf735",
   "metadata": {},
   "outputs": [],
   "source": [
    "import ray\n",
    "import ray.data\n",
    "import pandas as pd\n",
    "from prophet import Prophet\n",
    "\n",
    "\n",
    "import mlflow\n",
    "import mlflow.pyfunc\n",
    "\n",
    "from mlflow.client import MlflowClient\n",
    "\n",
    "import os"
   ]
  },
  {
   "cell_type": "code",
   "execution_count": null,
   "id": "17485adb",
   "metadata": {},
   "outputs": [],
   "source": [
    "tracking_uri = \"http://127.0.0.1:8080\"\n",
    "\n",
    "mlflow.set_tracking_uri(tracking_uri)\n",
    "\n",
    "client = MlflowClient(tracking_uri=tracking_uri)\n",
    "\n",
    "mlflow.set_experiment(\"Prophet Forecasting\")"
   ]
  },
  {
   "cell_type": "code",
   "execution_count": null,
   "id": "037c301a",
   "metadata": {},
   "outputs": [],
   "source": [
    "def prep_store_data(\n",
    "    df: pd.DataFrame,\n",
    "    store_id: int = 4,\n",
    "    store_open: int = 1,\n",
    ") -> pd.DataFrame:\n",
    "\n",
    "    df_store = df[\n",
    "        (df['Store'] == store_id) &\\\n",
    "        (df['Open'] == store_open)\n",
    "    ].reset_index(drop=True)\n",
    "    df_store['Date'] = pd.to_datetime(df_store['Date'])\n",
    "    df_store.rename(columns={'Date': 'ds', 'Sales': 'y'}, inplace=True)\n",
    "    return df_store.sort_values('ds', ascending=True)\n",
    "\n",
    "\n",
    "def train_predict(\n",
    "    df: pd.DataFrame,\n",
    "    train_fraction: float,\n",
    "    seasonality: dict,\n",
    ") -> tuple[Prophet, pd.DataFrame, pd.DataFrame, pd.DataFrame, int]:\n",
    "    \n",
    "    train_index = int(train_fraction*df.shape[0])\n",
    "    df_train = df.copy().iloc[0:train_index]\n",
    "    df_test = df.copy().iloc[train_index:]\n",
    "\n",
    "    model = Prophet(\n",
    "        yearly_seasonality=seasonality['yearly'],\n",
    "        weekly_seasonality=seasonality['weekly'],\n",
    "        daily_seasonality=seasonality['daily'],\n",
    "        interval_width=0.95\n",
    "    )\n",
    "\n",
    "    model.fit(df_train)\n",
    "\n",
    "    predicted = model.predict(df_test)\n",
    "\n",
    "    return model, predicted, df_train, df_test, train_index"
   ]
  },
  {
   "cell_type": "code",
   "execution_count": null,
   "id": "f07470f7",
   "metadata": {},
   "outputs": [],
   "source": [
    "@ray.remote(num_returns=5)\n",
    "def prep_train_predict(\n",
    "    df:pd.DataFrame,\n",
    "    store_id: int,\n",
    "    store_open: int=1,\n",
    "    train_fraction: float=0.8,\n",
    "    seasonality: dict={\n",
    "        'yearly': True,\n",
    "        'weekly': True,\n",
    "        'daily': False,\n",
    "    }\n",
    ") -> tuple[Prophet, pd.DataFrame, pd.DataFrame, pd.DataFrame, int]:\n",
    "    \n",
    "    df = prep_store_data(df, store_id=store_id, store_open=store_open)\n",
    "    return train_predict(df, train_fraction, seasonality)"
   ]
  },
  {
   "cell_type": "code",
   "execution_count": null,
   "id": "b2ea80b3",
   "metadata": {},
   "outputs": [],
   "source": [
    "train_path = \"./rossman_store_data/train.csv\"\n",
    "\n",
    "df = pd.read_csv(train_path)"
   ]
  },
  {
   "cell_type": "code",
   "execution_count": null,
   "id": "1bff7c93",
   "metadata": {},
   "outputs": [],
   "source": [
    "store_ids = df['Store'].unique()\n",
    "\n",
    "seasonality = {\n",
    "    'yearly': True,\n",
    "    'weekly': True,\n",
    "    'daily': False\n",
    "}"
   ]
  },
  {
   "cell_type": "code",
   "execution_count": null,
   "id": "0be0f43d",
   "metadata": {},
   "outputs": [],
   "source": [
    "ray.init()"
   ]
  },
  {
   "cell_type": "code",
   "execution_count": null,
   "id": "6a6a2067",
   "metadata": {},
   "outputs": [],
   "source": [
    "df_id = ray.put(df)"
   ]
  },
  {
   "cell_type": "code",
   "execution_count": null,
   "id": "cc45c65c",
   "metadata": {},
   "outputs": [],
   "source": [
    "model_obj_refs, pred_obj_refs, train_obj_refs, test_obj_refs, train_index_obj_refs = map(\n",
    "    list,\n",
    "    zip(*([prep_train_predict.remote(df_id, store_id) for store_id in store_ids])),\n",
    ")"
   ]
  },
  {
   "cell_type": "code",
   "execution_count": null,
   "id": "8f69bca5",
   "metadata": {},
   "outputs": [],
   "source": [
    "ray_results = {\n",
    "    'predictions': ray.get(pred_obj_refs),\n",
    "    'train_data': ray.get(train_obj_refs),\n",
    "    'test_data': ray.get(test_obj_refs),\n",
    "    'train_indices': ray.get(train_index_obj_refs)\n",
    "}"
   ]
  },
  {
   "cell_type": "code",
   "execution_count": null,
   "id": "c9269058",
   "metadata": {},
   "outputs": [],
   "source": [
    "def register_models_to_mlflow(store_ids, model_obj_refs):\n",
    "    for store_id, model in zip(store_ids, ray.get(model_obj_refs)):\n",
    "        with mlflow.start_run():\n",
    "            mlflow.prophet.log_model(\n",
    "                pr_model=model,\n",
    "                artifact_path=\"prophet_model\",\n",
    "                registered_model_name=f\"prophet-retail-forecaster-store-{store_id}\"\n",
    "            )\n",
    "\n",
    "            latest_version = client.get_latest_versions(\n",
    "                name=f\"prophet-retail-forecaster-store-{store_id}\",\n",
    "                stages=[\"None\"]\n",
    "            )[0].version\n",
    "\n",
    "            client.transition_model_version_stage(\n",
    "                name=f\"prophet-retail-forecaster-store-{store_id}\",\n",
    "                version=latest_version,\n",
    "                stage=\"Production\"\n",
    "            )"
   ]
  },
  {
   "cell_type": "code",
   "execution_count": null,
   "id": "37a5e445",
   "metadata": {},
   "outputs": [],
   "source": [
    "register_models_to_mlflow(store_ids, model_obj_refs)"
   ]
  },
  {
   "cell_type": "code",
   "execution_count": null,
   "id": "a9a589c1",
   "metadata": {},
   "outputs": [],
   "source": [
    "def get_production_model(store_id: int):\n",
    "    model_name = f\"prophet-retail-forecaster-store-{store_id}\"\n",
    "    model = mlflow.pyfunc.load_model(\n",
    "        model_uri=f\"models:/{model_name}/Production\"\n",
    "    )\n",
    "\n",
    "    latest_versions_metadata = client.get_latest_versions(\n",
    "        name=model_name\n",
    "    )\n",
    "    return model, latest_versions_metadata"
   ]
  },
  {
   "cell_type": "code",
   "execution_count": null,
   "id": "6098317d",
   "metadata": {},
   "outputs": [],
   "source": [
    "loaded_model, metadata = get_production_model(100)"
   ]
  }
 ],
 "metadata": {
  "kernelspec": {
   "display_name": "rayenv",
   "language": "python",
   "name": "python3"
  },
  "language_info": {
   "codemirror_mode": {
    "name": "ipython",
    "version": 3
   },
   "file_extension": ".py",
   "mimetype": "text/x-python",
   "name": "python",
   "nbconvert_exporter": "python",
   "pygments_lexer": "ipython3",
   "version": "3.10.16"
  }
 },
 "nbformat": 4,
 "nbformat_minor": 5
}
